{
 "cells": [
  {
   "cell_type": "code",
   "execution_count": null,
   "id": "0268f106",
   "metadata": {},
   "outputs": [],
   "source": [
    "import numpy as np\n",
    "from nbodykit.lab import cosmology\n",
    "import os\n",
    "import sys\n",
    "\n",
    "module_path = os.path.abspath(os.path.join(\"../lib\"))\n",
    "if module_path not in sys.path:\n",
    "    sys.path.append(module_path)\n",
    "    \n",
    "from pk_tools import pk_tools\n",
    "import pk_fit_selection as fit"
   ]
  },
  {
   "cell_type": "code",
   "execution_count": null,
   "id": "cfe74482",
   "metadata": {},
   "outputs": [],
   "source": [
    "datapath = \"../data/BOSS_DR12_NGC_z1/\"\n",
    "datafile = datapath + \"ps1D_BOSS_DR12_NGC_z1_COMPnbar_TSC_700_700_700_400_renorm.dat\"\n",
    "W = pk_tools.read_matrix(datapath + \"W_BOSS_DR12_NGC_z1_V6C_1_1_1_1_1_10_200_2000_averaged_v1.matrix\")\n",
    "M = pk_tools.read_matrix(datapath + \"M_BOSS_DR12_NGC_z1_V6C_1_1_1_1_1_2000_1200.matrix\")\n",
    "\n",
    "pk_data_dict = pk_tools.read_power(datafile, combine_bins=10)\n",
    "kbins, _ = pk_tools.dict_to_vec(pk_data_dict)\n",
    "Nmodes = np.tile(pk_data_dict['Nmodes'], 5)\n",
    "\n",
    "pk_model_dict = pk_tools.read_power(datafile, combine_bins=1)\n",
    "krange = pk_model_dict[\"k\"]\n",
    "\n",
    "z = 0.38\n",
    "cosmo = cosmology.Planck15\n",
    "pk_matter = cosmology.LinearPower(cosmo, redshift=z, transfer=\"EisensteinHu\")\n",
    "pk_matter_k = pk_matter(krange)\n",
    "\n",
    "b = 2\n",
    "f = 0.7\n",
    "\n",
    "P0 = (b**2 + 2/3*b*f + 1/5*f**2) * pk_matter_k\n",
    "P2 = (4/3*b*f + 4/7*f**2) * pk_matter_k\n",
    "P4 = 8/35*f**2*pk_matter_k\n",
    "\n",
    "P = np.concatenate((P0, P2, P4))\n",
    "P_conv = W@M@P\n",
    "\n",
    "fit_selection = fit.get_fit_selection(kbins, kmin=0.01, kmax=0.1, pole_selection=[True, False, True, False, False])\n",
    "fit_P_conv = P_conv[fit_selection]\n",
    "fit_Nmodes = Nmodes[fit_selection]\n",
    "\n",
    "T = np.diag(2*fit_P_conv**2 / fit_Nmodes)\n",
    "\n",
    "p = np.sum(fit_selection)\n",
    "#np.savetxt(f\"../output/BOSS_DR12_NGC_z1/T_{p}_{p}.matrix\", T)"
   ]
  },
  {
   "cell_type": "code",
   "execution_count": null,
   "id": "25fadd64",
   "metadata": {},
   "outputs": [],
   "source": []
  }
 ],
 "metadata": {
  "kernelspec": {
   "display_name": "Python 3 (ipykernel)",
   "language": "python",
   "name": "python3"
  },
  "language_info": {
   "codemirror_mode": {
    "name": "ipython",
    "version": 3
   },
   "file_extension": ".py",
   "mimetype": "text/x-python",
   "name": "python",
   "nbconvert_exporter": "python",
   "pygments_lexer": "ipython3",
   "version": "3.8.13"
  }
 },
 "nbformat": 4,
 "nbformat_minor": 5
}
