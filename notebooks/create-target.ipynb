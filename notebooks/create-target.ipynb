{
 "cells": [
  {
   "cell_type": "code",
   "execution_count": 5,
   "id": "b5b10852",
   "metadata": {},
   "outputs": [],
   "source": [
    "import numpy as np\n",
    "from nbodykit.lab import cosmology\n",
    "import os\n",
    "import sys\n",
    "\n",
    "module_path = os.path.abspath(os.path.join(\"../lib\"))\n",
    "if module_path not in sys.path:\n",
    "    sys.path.append(module_path)\n",
    "    \n",
    "from pk_tools import pk_tools\n",
    "import pk_fit_selection as fit"
   ]
  },
  {
   "cell_type": "code",
   "execution_count": 4,
   "id": "ecb86e47",
   "metadata": {},
   "outputs": [
    {
     "ename": "NameError",
     "evalue": "name 'pk_tools' is not defined",
     "output_type": "error",
     "traceback": [
      "\u001b[0;31m---------------------------------------------------------------------------\u001b[0m",
      "\u001b[0;31mNameError\u001b[0m                                 Traceback (most recent call last)",
      "Input \u001b[0;32mIn [4]\u001b[0m, in \u001b[0;36m<cell line: 2>\u001b[0;34m()\u001b[0m\n\u001b[1;32m      1\u001b[0m data_path \u001b[38;5;241m=\u001b[39m \u001b[38;5;124m\"\u001b[39m\u001b[38;5;124m../data/BOSS_DR12_NGC_z1/\u001b[39m\u001b[38;5;124m\"\u001b[39m\n\u001b[0;32m----> 2\u001b[0m data \u001b[38;5;241m=\u001b[39m \u001b[43mpk_tools\u001b[49m\u001b[38;5;241m.\u001b[39mread_power(\n\u001b[1;32m      3\u001b[0m     os\u001b[38;5;241m.\u001b[39mpath\u001b[38;5;241m.\u001b[39mjoin(data_path, \u001b[38;5;124m\"\u001b[39m\u001b[38;5;124mps1D_BOSS_DR12_NGC_z1_COMPnbar_TSC_700_700_700_400_renorm.dat\u001b[39m\u001b[38;5;124m\"\u001b[39m),\n\u001b[1;32m      4\u001b[0m     combine_bins\u001b[38;5;241m=\u001b[39m\u001b[38;5;241m10\u001b[39m\n\u001b[1;32m      5\u001b[0m )\n\u001b[1;32m      7\u001b[0m kbins, pk_data_vector \u001b[38;5;241m=\u001b[39m pk_tools\u001b[38;5;241m.\u001b[39mdict_to_vec(data)\n\u001b[1;32m      8\u001b[0m Nmodes \u001b[38;5;241m=\u001b[39m np\u001b[38;5;241m.\u001b[39mtile(data[\u001b[38;5;124m'\u001b[39m\u001b[38;5;124mNmodes\u001b[39m\u001b[38;5;124m'\u001b[39m], \u001b[38;5;241m5\u001b[39m)\n",
      "\u001b[0;31mNameError\u001b[0m: name 'pk_tools' is not defined"
     ]
    }
   ],
   "source": [
    "#data_path = \"../data/BOSS_DR12_NGC_z1/\"\n",
    "#data = pk_tools.read_power(\n",
    "#    os.path.join(data_path, \"ps1D_BOSS_DR12_NGC_z1_COMPnbar_TSC_700_700_700_400_renorm.dat\"),\n",
    "#    combine_bins=10\n",
    "#)\n",
    "\n",
    "#kbins, pk_data_vector = pk_tools.dict_to_vec(data)\n",
    "#Nmodes = np.tile(data['Nmodes'], 5)\n",
    "\n",
    "fit_selection = fit.get_fit_selection(kbins, kmin=0.01, kmax=0.1, pole_selection=[True, False, True, False, False])\n",
    "fit_pk_data_vector = pk_data_vector[fit_selection]\n",
    "fit_Nmodes = Nmodes[fit_selection]\n",
    "\n",
    "p = np.sum(fit_selection)\n",
    "\n",
    "T = np.diag(2*fit_pk_data_vector**2 / fit_Nmodes)\n",
    "np.savetxt(f\"../output/BOSS_DR12_NGC_z1/T_{p}_{p}.matrix\", T)"
   ]
  },
  {
   "cell_type": "code",
   "execution_count": 13,
   "id": "dbbbd39f",
   "metadata": {},
   "outputs": [],
   "source": [
    "data_path = \"../data/BOSS_DR12_NGC_z1/\"\n",
    "data = pk_tools.read_power(\n",
    "    os.path.join(data_path, \"ps1D_BOSS_DR12_NGC_z1_COMPnbar_TSC_700_700_700_400_renorm.dat\"),\n",
    "    combine_bins=1\n",
    ")\n",
    "\n",
    "pk_data_dict = pk_tools.read_power(datafile, combine_bins=10)\n",
    "kbins, self.pk_data_vector = pk_tools.dict_to_vec(pk_data_dict)\n",
    "\n",
    "krange = data[\"k\"]\n",
    "z = 0.38\n",
    "\n",
    "cosmo = cosmology.Planck15\n",
    "pk_matter = cosmology.LinearPower(cosmo, redshift=z, transfer=\"EisensteinHu\")\n",
    "pk_matter_k = pk_matter(krange)\n",
    "\n",
    "b = 2\n",
    "f = 0.7\n",
    "#f = cosmo.scale_independent_growth_rate(z)\n",
    "\n",
    "P0 = (b**2 + 2/3*b*f + 1/5*f**2) * pk_matter_k\n",
    "P2 = (4/3*b*f + 4/7*f**2) * pk_matter_k\n",
    "P4 = 8/35*f**2*pk_matter_k\n",
    "\n",
    "P = np.concatenate((P0, P2, P4))\n",
    "\n",
    "W = pk_tools.read_matrix(data_path + \"W_BOSS_DR12_NGC_z1_V6C_1_1_1_1_1_10_200_2000_averaged_v1.matrix\")\n",
    "M = pk_tools.read_matrix(data_path + \"M_BOSS_DR12_NGC_z1_V6C_1_1_1_1_1_2000_1200.matrix\")\n",
    "\n",
    "P_conv = W@M@P\n",
    "\n",
    "fit_selection = fit.get_fit_selection(kbins, kmin=0.01, kmax=0.1, pole_selection=[True, False, True, False, False])\n",
    "fit_pk_data_vector = pk_data_vector[fit_selection]\n",
    "fit_Nmodes = Nmodes[fit_selection]"
   ]
  },
  {
   "cell_type": "code",
   "execution_count": 18,
   "id": "4cd7598a",
   "metadata": {},
   "outputs": [],
   "source": [
    "datapath = \"../data/BOSS_DR12_NGC_z1/\"\n",
    "datafile = datapath + \"ps1D_BOSS_DR12_NGC_z1_COMPnbar_TSC_700_700_700_400_renorm.dat\"\n",
    "W = pk_tools.read_matrix(datapath + \"W_BOSS_DR12_NGC_z1_V6C_1_1_1_1_1_10_200_2000_averaged_v1.matrix\")\n",
    "M = pk_tools.read_matrix(datapath + \"M_BOSS_DR12_NGC_z1_V6C_1_1_1_1_1_2000_1200.matrix\")\n",
    "\n",
    "pk_data_dict = pk_tools.read_power(datafile, combine_bins=10)\n",
    "kbins, _ = pk_tools.dict_to_vec(pk_data_dict)\n",
    "Nmodes = np.tile(pk_data_dict['Nmodes'], 5)\n",
    "\n",
    "pk_model_dict = pk_tools.read_power(datafile, combine_bins=1)\n",
    "krange = pk_model_dict[\"k\"]\n",
    "\n",
    "z = 0.38\n",
    "cosmo = cosmology.Planck15\n",
    "pk_matter = cosmology.LinearPower(cosmo, redshift=z, transfer=\"EisensteinHu\")\n",
    "pk_matter_k = pk_matter(krange)\n",
    "\n",
    "b = 2\n",
    "f = 0.7\n",
    "#f = cosmo.scale_independent_growth_rate(z)\n",
    "\n",
    "P0 = (b**2 + 2/3*b*f + 1/5*f**2) * pk_matter_k\n",
    "P2 = (4/3*b*f + 4/7*f**2) * pk_matter_k\n",
    "P4 = 8/35*f**2*pk_matter_k\n",
    "\n",
    "P = np.concatenate((P0, P2, P4))\n",
    "P_conv = W@M@P\n",
    "\n",
    "fit_selection = fit.get_fit_selection(kbins, kmin=0.01, kmax=0.1, pole_selection=[True, False, True, False, False])\n",
    "fit_P_conv = P_conv[fit_selection]\n",
    "fit_Nmodes = Nmodes[fit_selection]\n",
    "\n",
    "T = np.diag(2*fit_P_conv**2 / fit_Nmodes)\n",
    "\n",
    "p = np.sum(fit_selection)\n",
    "np.savetxt(f\"../output/BOSS_DR12_NGC_z1/T_{p}_{p}.matrix\", T)"
   ]
  },
  {
   "cell_type": "code",
   "execution_count": null,
   "id": "5768083f",
   "metadata": {},
   "outputs": [],
   "source": []
  }
 ],
 "metadata": {
  "kernelspec": {
   "display_name": "Python 3 (ipykernel)",
   "language": "python",
   "name": "python3"
  },
  "language_info": {
   "codemirror_mode": {
    "name": "ipython",
    "version": 3
   },
   "file_extension": ".py",
   "mimetype": "text/x-python",
   "name": "python",
   "nbconvert_exporter": "python",
   "pygments_lexer": "ipython3",
   "version": "3.8.13"
  }
 },
 "nbformat": 4,
 "nbformat_minor": 5
}
