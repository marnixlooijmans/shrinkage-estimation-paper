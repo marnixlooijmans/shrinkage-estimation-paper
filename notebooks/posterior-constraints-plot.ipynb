{
 "cells": [
  {
   "cell_type": "code",
   "execution_count": null,
   "id": "e9d7ca9e",
   "metadata": {},
   "outputs": [],
   "source": [
    "import numpy as np\n",
    "import pocomc as pc\n",
    "import os\n",
    "from getdist import plots, MCSamples\n",
    "import matplotlib.pyplot as plt\n",
    "%matplotlib inline"
   ]
  },
  {
   "cell_type": "code",
   "execution_count": null,
   "id": "1785401d",
   "metadata": {},
   "outputs": [],
   "source": [
    "#names = [\"Bias parameter\", \"Growth rate\"]\n",
    "names = [\"b\", \"f\"]\n",
    "labels = [\"b\", \"f\"]\n",
    "\n",
    "ref_chain = np.load(\"../output/BOSS_DR12_NGC_z1/samples/n2048/cov_sample/cov_sample_2048_results_v1.npy\", allow_pickle=True)\n",
    "reference = MCSamples(samples=ref_chain[()][\"samples\"], labels=labels, names=names)"
   ]
  },
  {
   "cell_type": "code",
   "execution_count": null,
   "id": "f08e3f15",
   "metadata": {},
   "outputs": [],
   "source": [
    "chain_names = [\n",
    "    \"Reference\",\n",
    "    \"Sample\",\n",
    "    \"Covariance linear shrinkage\",\n",
    "    \"Covariance NERCOME\",\n",
    "    \"Precision linear shrinkage\",\n",
    "]\n",
    "\n",
    "filenames = [\n",
    "    \"cov_sample_21.npy\",\n",
    "    \"cov_shrinkage_Sii_21.npy\",\n",
    "    \"cov_NERCOME_21.NPY\",\n",
    "    \"pre_shrinkage_diag_then_inv_21.npy\",\n",
    "]\n",
    "\n",
    "datapath = \"../output/BOSS_DR12_NGC_z1/samples/n21/\"\n",
    "\n",
    "chains = [reference]\n",
    "for filename in filenames:\n",
    "    samples_chain = np.load(os.path.join(datapath, filename), allow_pickle=True)[()]\n",
    "    chain = MCSamples(samples=samples_chain.samples, labels=labels, names=names)\n",
    "    chains.append(chain)"
   ]
  },
  {
   "cell_type": "code",
   "execution_count": null,
   "id": "7021a8b5",
   "metadata": {},
   "outputs": [],
   "source": [
    "g = plots.getSubplotPlotter(subplot_size=4)\n",
    "g.settings.figure_legend_frame = False\n",
    "g.settings.legend_fontsize=11\n",
    "g.triangle_plot(\n",
    "    chains,\n",
    "    filled=True,\n",
    "    contour_args={'alpha':0.8}, title_limit=1,\n",
    "    legend_labels=chain_names,\n",
    ")\n",
    "\n",
    "#plt.savefig(f\"../contour_plot.pdf\", format=\"pdf\", bbox_inches='tight', pad_inches = 0.1)"
   ]
  },
  {
   "cell_type": "code",
   "execution_count": null,
   "id": "7cca9e74",
   "metadata": {},
   "outputs": [],
   "source": []
  }
 ],
 "metadata": {
  "kernelspec": {
   "display_name": "Python 3",
   "language": "python",
   "name": "python3"
  },
  "language_info": {
   "codemirror_mode": {
    "name": "ipython",
    "version": 3
   },
   "file_extension": ".py",
   "mimetype": "text/x-python",
   "name": "python",
   "nbconvert_exporter": "python",
   "pygments_lexer": "ipython3",
   "version": "3.8.3"
  }
 },
 "nbformat": 4,
 "nbformat_minor": 5
}
