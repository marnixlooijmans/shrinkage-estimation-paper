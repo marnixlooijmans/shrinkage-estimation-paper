{
 "cells": [
  {
   "cell_type": "code",
   "execution_count": null,
   "id": "d04500c2",
   "metadata": {},
   "outputs": [],
   "source": [
    "import numpy as np\n",
    "import os\n",
    "import sys\n",
    "\n",
    "module_path = os.path.abspath(os.path.join(\"../lib\"))\n",
    "if module_path not in sys.path:\n",
    "    sys.path.append(module_path)\n",
    "    \n",
    "from pk_tools import pk_tools\n",
    "import pk_fit_selection as fit"
   ]
  },
  {
   "cell_type": "code",
   "execution_count": null,
   "id": "4d4220dd",
   "metadata": {},
   "outputs": [],
   "source": [
    "mocks_path = \"../data/BOSS_DR12_NGC_z1/Patchy_V6C_BOSS_DR12_NGC_z1/\"\n",
    "all_filenames = [f for f in os.listdir(mocks_path) if not f.startswith('.')]\n",
    "np.random.shuffle(all_filenames)\n",
    "\n",
    "# Bin selection\n",
    "kmin = 0.01 # h/Mpc\n",
    "kmax = 0.1 # h/Mpc\n",
    "poles = [True, False, True, False, False]\n",
    "p = 18 # The above correspond to two multipoles of 9 bins each\n",
    "\n",
    "# We create 90 sets of each 21 mocks and 63 sets of each 30 mocks\n",
    "total = 1890 # = 21*30*3\n",
    "filenames = all_filenames[:total] # Select #total mocks from all available mocks (=2048)"
   ]
  },
  {
   "cell_type": "code",
   "execution_count": null,
   "id": "9aceb39e",
   "metadata": {},
   "outputs": [],
   "source": [
    "def create_mocks_matrices(n, filenames):\n",
    "    save_path = f\"../output/BOSS_DR12_NGC_z1/mocks/n{n}/\"\n",
    "    r = len(filenames) // n\n",
    "    \n",
    "    for v in range(r):\n",
    "        filenames_cut = filenames[v*n:(v+1)*n]\n",
    "        P = np.empty((p, len(filenames_cut)))\n",
    "    \n",
    "        for k, filename in enumerate(filenames_cut):\n",
    "            \n",
    "            # Load the data using Beutler's pk_tools module \n",
    "            data = pk_tools.read_power(os.path.join(mocks_path, filename), combine_bins=10)\n",
    "            kbins, pk_data_vector = pk_tools.dict_to_vec(data)\n",
    "        \n",
    "            fit_selection = fit.get_fit_selection(kbins, kmin=kmin, kmax=kmax, pole_selection=poles)\n",
    "            fit_pk_data_vector = pk_data_vector[fit_selection]\n",
    "        \n",
    "            P[:,k] = fit_pk_data_vector\n",
    "    \n",
    "        np.savetxt(os.path.join(save_path, f\"P_{p}_{n}_v{v+1}.matrix\"), P)"
   ]
  },
  {
   "cell_type": "code",
   "execution_count": null,
   "id": "adf757f3",
   "metadata": {},
   "outputs": [],
   "source": [
    "# 90 sets of each 21 mocks\n",
    "create_mocks_matrices(21, filenames)\n",
    "\n",
    "# Shuffle for next batch\n",
    "np.random.shuffle(filenames)\n",
    "\n",
    "# 63 sets of each 30 mocks\n",
    "create_mocks_matrices(30, filenames)\n",
    "\n",
    "# All mocks\n",
    "create_mocks_matrices(2048, all_filenames)"
   ]
  },
  {
   "cell_type": "code",
   "execution_count": null,
   "id": "03912a4d",
   "metadata": {},
   "outputs": [],
   "source": []
  }
 ],
 "metadata": {
  "kernelspec": {
   "display_name": "Python 3",
   "language": "python",
   "name": "python3"
  },
  "language_info": {
   "codemirror_mode": {
    "name": "ipython",
    "version": 3
   },
   "file_extension": ".py",
   "mimetype": "text/x-python",
   "name": "python",
   "nbconvert_exporter": "python",
   "pygments_lexer": "ipython3",
   "version": "3.8.3"
  }
 },
 "nbformat": 4,
 "nbformat_minor": 5
}
