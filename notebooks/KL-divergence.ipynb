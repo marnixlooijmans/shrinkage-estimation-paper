{
 "cells": [
  {
   "cell_type": "code",
   "execution_count": 5,
   "id": "dda578a6",
   "metadata": {},
   "outputs": [],
   "source": [
    "import numpy as np\n",
    "from scipy.integrate import simps\n",
    "from scipy.stats import gaussian_kde\n",
    "import matplotlib.pyplot as plt\n",
    "import os\n",
    "\n",
    "%matplotlib inline"
   ]
  },
  {
   "cell_type": "code",
   "execution_count": 6,
   "id": "cbf08173",
   "metadata": {},
   "outputs": [
    {
     "data": {
      "image/png": "[encoded data removed]",
      "text/plain": [
       "<Figure size 432x288 with 1 Axes>"
      ]
     },
     "metadata": {
      "needs_background": "light"
     },
     "output_type": "display_data"
    }
   ],
   "source": [
    "def test_kde(samples):\n",
    "    kde = gaussian_kde(samples, bw_method=0.1)\n",
    "    x_values = np.linspace(samples.min(), samples.max(), 2000)\n",
    "\n",
    "    n, bins, _ = plt.hist(samples, bins=int(np.round(np.sqrt(len(samples)))), density=True)\n",
    "    plt.plot(x_values, kde.pdf(x_values))\n",
    "    plt.show()\n",
    "\n",
    "chain = np.load(\"../output/BOSS_DR12_NGC_z1/samples/n30/cov_NERCOME/cov_NERCOME_30_results_v50.npy\", allow_pickle=True)[()]\n",
    "samples = chain[\"samples\"][:,0]\n",
    "test_kde(samples)"
   ]
  },
  {
   "cell_type": "code",
   "execution_count": 7,
   "id": "09ae17b0",
   "metadata": {},
   "outputs": [],
   "source": [
    "def estimate_kl_divergence(samples_p, samples_q, num_points=2000, bandwidth=0.1):\n",
    "    # Fit Kernel Density Estimators for both distributions P and Q\n",
    "    kde_p = gaussian_kde(samples_p, bw_method=bandwidth)\n",
    "    kde_q = gaussian_kde(samples_q, bw_method=bandwidth)\n",
    "    \n",
    "    # Define a range over which to estimate the densities (covers both sample ranges)\n",
    "    min_range = min(samples_p.min(), samples_q.min())\n",
    "    max_range = max(samples_p.max(), samples_q.max())\n",
    "    \n",
    "    x_values = np.linspace(min_range, max_range, num_points)\n",
    "    \n",
    "    # Estimate densities for both P and Q on this range\n",
    "    log_p = kde_p.logpdf(x_values)\n",
    "    log_q = kde_q.logpdf(x_values)\n",
    "    p = np.exp(log_p)\n",
    "    \n",
    "    kl_divergence = simps(p * (log_p - log_q), x_values)\n",
    "    return kl_divergence"
   ]
  },
  {
   "cell_type": "code",
   "execution_count": 4,
   "id": "cd27b70e",
   "metadata": {},
   "outputs": [],
   "source": [
    "samples_p = np.random.normal(0, 1, size=2000)\n",
    "samples_q = np.random.normal(1, 1, size=2000)"
   ]
  },
  {
   "cell_type": "code",
   "execution_count": 5,
   "id": "fc590301",
   "metadata": {},
   "outputs": [
    {
     "name": "stdout",
     "output_type": "stream",
     "text": [
      "Estimated KL Divergence: 0.495002926690581\n"
     ]
    }
   ],
   "source": [
    "kl_div = estimate_kl_divergence(samples_p, samples_q, bandwidth=\"scott\")\n",
    "print(f\"Estimated KL Divergence: {kl_div}\") # Should be 0.5 for two Gaussians N(0,1) and N(1,1)"
   ]
  },
  {
   "cell_type": "code",
   "execution_count": 8,
   "id": "08eec9ee",
   "metadata": {},
   "outputs": [
    {
     "name": "stdout",
     "output_type": "stream",
     "text": [
      "(4000, 2)\n"
     ]
    },
    {
     "data": {
      "image/png": "[encoded data removed]",
      "text/plain": [
       "<Figure size 432x288 with 1 Axes>"
      ]
     },
     "metadata": {
      "needs_background": "light"
     },
     "output_type": "display_data"
    }
   ],
   "source": [
    "ref_chain = np.load(\"../output/BOSS_DR12_NGC_z1/samples/n2048/cov_sample/cov_sample_2048_results_v1.npy\", allow_pickle=True)[()]\n",
    "ref_samples = ref_chain[\"samples\"]\n",
    "print(ref_samples.shape)\n",
    "\n",
    "test_kde(ref_samples[:,1])"
   ]
  },
  {
   "cell_type": "code",
   "execution_count": 9,
   "id": "df8966b9",
   "metadata": {},
   "outputs": [],
   "source": [
    "estimates = [\n",
    "    ['cov', 'sample', \"Sample\"],\n",
    "    ['cov', 'shrinkage_emp', \"Covariance shrinkage, target T^1 (empirical)\"],\n",
    "    ['cov', 'shrinkage_ana', \"Covariance shrinkage, target T^2 (analytical)\"],\n",
    "    ['cov', 'NERCOME', \"NERCOME\"],\n",
    "    ['pre', 'shrinkage_emp', \"Precision shrinkage, target Pi_0^1 (empirical)\"],\n",
    "    ['pre', 'shrinkage_ana', \"Precision shrinkage, target Pi_0^2 (analytical)\"],\n",
    "]\n",
    "params = [\"Bias\", \"Growth\"]"
   ]
  },
  {
   "cell_type": "code",
   "execution_count": 11,
   "id": "d2d155cc",
   "metadata": {},
   "outputs": [
    {
     "name": "stdout",
     "output_type": "stream",
     "text": [
      "For n=2048 samples:\n",
      "Sample Bias 0.0\n",
      "Sample Growth 0.0\n",
      "Covariance shrinkage, target T^1 (empirical) Bias 0.014\n",
      "Covariance shrinkage, target T^1 (empirical) Growth 0.008\n",
      "Covariance shrinkage, target T^2 (analytical) Bias 0.009\n",
      "Covariance shrinkage, target T^2 (analytical) Growth 0.012\n",
      "NERCOME Bias 0.018\n",
      "NERCOME Growth 0.018\n",
      "Precision shrinkage, target Pi_0^1 (empirical) Bias 0.01\n",
      "Precision shrinkage, target Pi_0^1 (empirical) Growth 0.006\n",
      "Precision shrinkage, target Pi_0^2 (analytical) Bias 0.01\n",
      "Precision shrinkage, target Pi_0^2 (analytical) Growth 0.013\n",
      "\n",
      "\n",
      "For n=30 samples:\n",
      "Sample Bias 0.51 0.4 1.11\n",
      "Sample Growth 0.36 0.28 1.36\n",
      "Covariance shrinkage, target T^1 (empirical) Bias 0.05 0.02 0.06\n",
      "Covariance shrinkage, target T^1 (empirical) Growth 0.07 0.03 0.05\n",
      "Covariance shrinkage, target T^2 (analytical) Bias 0.47 0.27 0.78\n",
      "Covariance shrinkage, target T^2 (analytical) Growth 0.4 0.2 0.55\n",
      "NERCOME Bias 0.54 0.41 1.25\n",
      "NERCOME Growth 0.21 0.16 0.37\n",
      "Precision shrinkage, target Pi_0^1 (empirical) Bias 0.29 0.2 1.05\n",
      "Precision shrinkage, target Pi_0^1 (empirical) Growth 0.11 0.07 0.29\n",
      "Precision shrinkage, target Pi_0^2 (analytical) Bias 0.27 0.18 0.84\n",
      "Precision shrinkage, target Pi_0^2 (analytical) Growth 0.13 0.07 0.14\n",
      "\n",
      "\n",
      "For n=24 samples:\n",
      "Sample Bias 1.21 0.95 6.21\n",
      "Sample Growth 0.79 0.6 7.1\n",
      "Covariance shrinkage, target T^1 (empirical) Bias 0.05 0.02 0.09\n",
      "Covariance shrinkage, target T^1 (empirical) Growth 0.08 0.03 0.05\n",
      "Covariance shrinkage, target T^2 (analytical) Bias 0.61 0.33 1.31\n",
      "Covariance shrinkage, target T^2 (analytical) Growth 0.76 0.42 1.14\n",
      "NERCOME Bias 1.34 0.88 2.57\n",
      "NERCOME Growth 0.26 0.21 0.64\n",
      "Precision shrinkage, target Pi_0^1 (empirical) Bias 0.79 0.66 5.47\n",
      "Precision shrinkage, target Pi_0^1 (empirical) Growth 0.14 0.1 0.35\n",
      "Excluded  pre_shrinkage_ana_24_results_v50.npy\n",
      "Precision shrinkage, target Pi_0^2 (analytical) Bias 0.57 0.46 2.17\n",
      "Precision shrinkage, target Pi_0^2 (analytical) Growth 0.21 0.08 0.17\n",
      "\n",
      "\n"
     ]
    }
   ],
   "source": [
    "# Exclude samples from matrix with negative eigenvalues (pre_18_18_shrinkage_ana_24_v50.matrix)\n",
    "# Corresponding samples filename is pre_shrinkage_ana_24_results_v50.npy\n",
    "fname_excl = \"pre_shrinkage_ana_24_results_v50.npy\"\n",
    "\n",
    "for n in [2048, 30, 24]:\n",
    "    print(f\"For n={n} samples:\")\n",
    "    for estimate in estimates:\n",
    "        mat_type = estimate[0]\n",
    "        est_type = estimate[1]\n",
    "        label = estimate[2]\n",
    "\n",
    "        datapath = f\"../output/BOSS_DR12_NGC_z1/samples/n{n}/{mat_type}_{est_type}/\"\n",
    "        filenames = [f for f in os.listdir(datapath) if not f.startswith('.')]\n",
    "    \n",
    "        KL_divs = [] # Kl divergences for linear bias (b) and growth rate (f)\n",
    "        for k, filename in enumerate(filenames):\n",
    "            if filename == fname_excl:\n",
    "                print(\"Excluded \", filename)\n",
    "                continue\n",
    "            \n",
    "            results = np.load(os.path.join(datapath, filename), allow_pickle=True)[()]\n",
    "            samples = results[\"samples\"]\n",
    "            \n",
    "            KL_divs.append([\n",
    "                estimate_kl_divergence(samples[:,0], ref_samples[:, 0]),\n",
    "                estimate_kl_divergence(samples[:,1], ref_samples[:, 1])\n",
    "            ])\n",
    "        \n",
    "        KL_divs = np.array(KL_divs)\n",
    "        \n",
    "        if n == 2048:\n",
    "            for j, param in enumerate(params):\n",
    "                print(label, param, np.round(KL_divs[0, j], 3))\n",
    "        else:\n",
    "            med = np.median(KL_divs, axis=0)\n",
    "            low = med - np.quantile(KL_divs, 0.16, axis=0)\n",
    "            high = np.quantile(KL_divs, 0.84, axis=0) - med\n",
    "    \n",
    "            for j, param in enumerate(params):\n",
    "                print(label, param, np.round(med[j], 2), np.round(low[j], 2), np.round(high[j], 2))\n",
    "    \n",
    "    print(\"\\n\")"
   ]
  },
  {
   "cell_type": "code",
   "execution_count": null,
   "id": "e92ea3b5",
   "metadata": {},
   "outputs": [],
   "source": []
  }
 ],
 "metadata": {
  "kernelspec": {
   "display_name": "Python 3 (ipykernel)",
   "language": "python",
   "name": "python3"
  },
  "language_info": {
   "codemirror_mode": {
    "name": "ipython",
    "version": 3
   },
   "file_extension": ".py",
   "mimetype": "text/x-python",
   "name": "python",
   "nbconvert_exporter": "python",
   "pygments_lexer": "ipython3",
   "version": "3.8.13"
  }
 },
 "nbformat": 4,
 "nbformat_minor": 5
}
