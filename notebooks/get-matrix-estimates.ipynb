{
 "cells": [
  {
   "cell_type": "code",
   "execution_count": null,
   "id": "02327c8f",
   "metadata": {},
   "outputs": [],
   "source": [
    "import numpy as np\n",
    "import matplotlib.pyplot as plt\n",
    "import os\n",
    "import sys\n",
    "%matplotlib inline\n",
    "\n",
    "module_path = os.path.abspath(os.path.join(\"../lib\"))\n",
    "if module_path not in sys.path:\n",
    "    sys.path.append(module_path)\n",
    "    \n",
    "from shrinkage_estimators import covariance_linear_shrinkage\n",
    "from shrinkage_estimators import precision_shrinkage\n",
    "from shrinkage_estimators import NERCOME"
   ]
  },
  {
   "cell_type": "code",
   "execution_count": null,
   "id": "d7d259a0",
   "metadata": {},
   "outputs": [],
   "source": [
    "data_path = \"../output/BOSS_DR12_NGC_z1/\"\n",
    "p = 18\n",
    "T = np.loadtxt(os.path.join(data_path, f\"T_{p}_{p}.matrix\"))"
   ]
  },
  {
   "cell_type": "code",
   "execution_count": null,
   "id": "b0b4daf6",
   "metadata": {},
   "outputs": [],
   "source": [
    "def estimate_matrices(n):\n",
    "    save_path = os.path.join(data_path, f\"matrices/n{n}/\")\n",
    "    mocks_path = os.path.join(data_path, f\"mocks/n{n}/\")\n",
    "    r = len([f for f in os.listdir(mocks_path) if not f.startswith('.')])\n",
    "    \n",
    "    for v in range(r):\n",
    "        print(f\"Run {v+1}\")\n",
    "        P = np.loadtxt(os.path.join(mocks_path, f\"P_{p}_{n}_v{v+1}.matrix\"))\n",
    "    \n",
    "        # Sample cov estimate\n",
    "        S = np.cov(P)\n",
    "        np.savetxt(os.path.join(save_path, \"cov_sample\", f\"cov_{p}_{p}_sample_{n}_v{v+1}.matrix\"), S)\n",
    "        \n",
    "        # Shrinkage cov estimates, empirical target = diag(S)\n",
    "        C_emp, lmbda_emp = covariance_linear_shrinkage.linear_shrinkage(P)\n",
    "        np.savetxt(os.path.join(save_path, \"cov_shrinkage_emp\", f\"cov_{p}_{p}_shrinkage_emp_{n}_v{v+1}.matrix\"), \n",
    "                   C_emp,\n",
    "                   header=f\"lambda={lmbda_emp}\")\n",
    "        \n",
    "        # Shrinkage cov estimates, analytical target\n",
    "        C_ana, lmbda_ana = covariance_linear_shrinkage.linear_shrinkage(P, target=T)\n",
    "        np.savetxt(os.path.join(save_path, \"cov_shrinkage_ana\", f\"cov_{p}_{p}_shrinkage_ana_{n}_v{v+1}.matrix\"),\n",
    "                   C_ana,\n",
    "                   header=f\"lambda={lmbda_ana}\")\n",
    "    \n",
    "        # Shrinkage precision matrix estimates, empirical target = evals(S^{-1})\n",
    "        target = np.diag(np.linalg.eigvalsh(np.linalg.inv(S)))\n",
    "        psi_emp, alpha_emp, beta_emp = precision_shrinkage.shrinkage(P, target)\n",
    "        np.savetxt(os.path.join(save_path, \"pre_shrinkage_emp\", f\"pre_{p}_{p}_shrinkage_emp_{n}_v{v+1}.matrix\"),\n",
    "                   psi_emp,\n",
    "                   header=f\"alpha={alpha_emp}, beta={beta_emp}\")\n",
    "        \n",
    "        # Shrinkage precision matrix estimates, analytical target\n",
    "        psi_ana, alpha_ana, beta_ana = precision_shrinkage.shrinkage(P, np.linalg.inv(T))\n",
    "        np.savetxt(os.path.join(save_path, \"pre_shrinkage_ana\", f\"pre_{p}_{p}_shrinkage_ana_{n}_v{v+1}.matrix\"),\n",
    "                   psi_ana,\n",
    "                   header=f\"alpha={alpha_ana}, beta={beta_ana}\")\n",
    "        \n",
    "        \n",
    "        # NERCOME cov estimate\n",
    "        C_nercome, s_min = NERCOME.NERCOME(P, all_splits=(n <= 50)) # Only do all splits if n at most 50\n",
    "        np.savetxt(os.path.join(save_path, \"cov_NERCOME\", f\"cov_{p}_{p}_NERCOME_{n}_v{v+1}.matrix\"),\n",
    "                   C_nercome,\n",
    "                   header=f\"s_min={s_min}\")"
   ]
  },
  {
   "cell_type": "code",
   "execution_count": null,
   "id": "69f11825",
   "metadata": {},
   "outputs": [],
   "source": [
    "estimate_matrices(24)\n",
    "estimate_matrices(30)\n",
    "estimate_matrices(2048)"
   ]
  },
  {
   "cell_type": "code",
   "execution_count": null,
   "id": "af5a6fcf",
   "metadata": {},
   "outputs": [],
   "source": []
  }
 ],
 "metadata": {
  "kernelspec": {
   "display_name": "Python 3 (ipykernel)",
   "language": "python",
   "name": "python3"
  },
  "language_info": {
   "codemirror_mode": {
    "name": "ipython",
    "version": 3
   },
   "file_extension": ".py",
   "mimetype": "text/x-python",
   "name": "python",
   "nbconvert_exporter": "python",
   "pygments_lexer": "ipython3",
   "version": "3.8.13"
  }
 },
 "nbformat": 4,
 "nbformat_minor": 5
}
