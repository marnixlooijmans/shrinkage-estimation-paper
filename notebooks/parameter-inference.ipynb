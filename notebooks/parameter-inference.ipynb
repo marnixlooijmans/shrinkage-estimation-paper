{
 "cells": [
  {
   "cell_type": "code",
   "execution_count": 1,
   "id": "b2f0a10c",
   "metadata": {},
   "outputs": [],
   "source": [
    "import numpy as np\n",
    "import os\n",
    "import sys\n",
    "\n",
    "module_path = os.path.abspath(os.path.join(\"../scripts\"))\n",
    "if module_path not in sys.path:\n",
    "    sys.path.append(module_path)\n",
    "\n",
    "from parameter_inference import run_parameter_inference"
   ]
  },
  {
   "cell_type": "code",
   "execution_count": null,
   "id": "39f4a7b5",
   "metadata": {},
   "outputs": [
    {
     "name": "stdout",
     "output_type": "stream",
     "text": [
      "Running version 1\n"
     ]
    },
    {
     "name": "stderr",
     "output_type": "stream",
     "text": [
      "Iter: 31it [11:17, 21.86s/it, beta=1, calls=6e+4, ESS=0.998, logZ=-15.6, accept=0.275, N=2, scale=1.23, corr=0.634]      \n",
      "Iter: 0it [00:00, ?it/s, beta=1, calls=6e+4, ESS=0.95, logZ=-15.6, accept=0, N=0, scale=0]"
     ]
    }
   ],
   "source": [
    "mat_type = \"pre\"\n",
    "est_type = \"shrinkage_P\"\n",
    "nmocks = 2048\n",
    "start = 1\n",
    "end = 1\n",
    "ncpus = 8\n",
    "\n",
    "run_parameter_inference(mat_type, est_type, nmocks, start, end, ncpus)"
   ]
  },
  {
   "cell_type": "code",
   "execution_count": null,
   "id": "45cefb3d",
   "metadata": {},
   "outputs": [],
   "source": []
  }
 ],
 "metadata": {
  "kernelspec": {
   "display_name": "Python 3 (ipykernel)",
   "language": "python",
   "name": "python3"
  },
  "language_info": {
   "codemirror_mode": {
    "name": "ipython",
    "version": 3
   },
   "file_extension": ".py",
   "mimetype": "text/x-python",
   "name": "python",
   "nbconvert_exporter": "python",
   "pygments_lexer": "ipython3",
   "version": "3.8.13"
  }
 },
 "nbformat": 4,
 "nbformat_minor": 5
}
