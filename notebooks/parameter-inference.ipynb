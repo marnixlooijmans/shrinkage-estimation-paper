{
 "cells": [
  {
   "cell_type": "code",
   "execution_count": null,
   "id": "497deee1",
   "metadata": {},
   "outputs": [],
   "source": [
    "import numpy as np\n",
    "import os\n",
    "import sys\n",
    "\n",
    "module_path = os.path.abspath(os.path.join(\"../scripts\"))\n",
    "if module_path not in sys.path:\n",
    "    sys.path.append(module_path)\n",
    "\n",
    "from parameter_inference import run_parameter_inference"
   ]
  },
  {
   "cell_type": "code",
   "execution_count": null,
   "id": "1bc1504e",
   "metadata": {},
   "outputs": [],
   "source": [
    "mat_type = \"pre\"\n",
    "est_type = \"shrinkage_P\"\n",
    "nmocks = 2048\n",
    "start = 1\n",
    "end = 1\n",
    "ncpus = 8\n",
    "\n",
    "run_parameter_inference(mat_type, est_type, nmocks, start, end, ncpus)"
   ]
  },
  {
   "cell_type": "code",
   "execution_count": null,
   "id": "9f9c1773",
   "metadata": {},
   "outputs": [],
   "source": []
  }
 ],
 "metadata": {
  "kernelspec": {
   "display_name": "Python 3",
   "language": "python",
   "name": "python3"
  },
  "language_info": {
   "codemirror_mode": {
    "name": "ipython",
    "version": 3
   },
   "file_extension": ".py",
   "mimetype": "text/x-python",
   "name": "python",
   "nbconvert_exporter": "python",
   "pygments_lexer": "ipython3",
   "version": "3.8.3"
  }
 },
 "nbformat": 4,
 "nbformat_minor": 5
}
