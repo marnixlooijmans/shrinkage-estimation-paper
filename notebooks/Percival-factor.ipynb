{
 "cells": [
  {
   "cell_type": "code",
   "execution_count": 1,
   "id": "50746fea",
   "metadata": {},
   "outputs": [],
   "source": [
    "import numpy as np"
   ]
  },
  {
   "cell_type": "code",
   "execution_count": 63,
   "id": "dec19bd5",
   "metadata": {},
   "outputs": [],
   "source": [
    "n_s = 21\n",
    "n_b = 18\n",
    "n_p = 2"
   ]
  },
  {
   "cell_type": "code",
   "execution_count": 64,
   "id": "d9c20a5a",
   "metadata": {},
   "outputs": [],
   "source": [
    "A = 2/((n_s-n_b-1)*(n_s-n_b-4))\n",
    "B = (n_s-n_b-2)/((n_s-n_b-1)*(n_s-n_b-4))\n",
    "m_1 = (1+B*(n_b-n_p))/(1+A+B*(n_p+1))"
   ]
  },
  {
   "cell_type": "code",
   "execution_count": 65,
   "id": "06f6c9f3",
   "metadata": {},
   "outputs": [
    {
     "name": "stdout",
     "output_type": "stream",
     "text": [
      "2.160246899469287\n"
     ]
    }
   ],
   "source": [
    "print(np.sqrt(m_1))"
   ]
  },
  {
   "cell_type": "code",
   "execution_count": null,
   "id": "42624955",
   "metadata": {},
   "outputs": [],
   "source": []
  }
 ],
 "metadata": {
  "kernelspec": {
   "display_name": "Python 3 (ipykernel)",
   "language": "python",
   "name": "python3"
  },
  "language_info": {
   "codemirror_mode": {
    "name": "ipython",
    "version": 3
   },
   "file_extension": ".py",
   "mimetype": "text/x-python",
   "name": "python",
   "nbconvert_exporter": "python",
   "pygments_lexer": "ipython3",
   "version": "3.8.13"
  }
 },
 "nbformat": 4,
 "nbformat_minor": 5
}
