{
 "cells": [
  {
   "cell_type": "code",
   "execution_count": null,
   "id": "1ede74bd",
   "metadata": {},
   "outputs": [],
   "source": [
    "import numpy as np"
   ]
  },
  {
   "cell_type": "code",
   "execution_count": null,
   "id": "506de667",
   "metadata": {},
   "outputs": [],
   "source": [
    "n_s = 21\n",
    "n_b = 18\n",
    "n_p = 2"
   ]
  },
  {
   "cell_type": "code",
   "execution_count": null,
   "id": "b1c07be2",
   "metadata": {},
   "outputs": [],
   "source": [
    "A = 2/((n_s-n_b-1)*(n_s-n_b-4))\n",
    "B = (n_s-n_b-2)/((n_s-n_b-1)*(n_s-n_b-4))\n",
    "m_1 = (1+B*(n_b-n_p))/(1+A+B*(n_p+1))"
   ]
  },
  {
   "cell_type": "code",
   "execution_count": null,
   "id": "ed4fd945",
   "metadata": {},
   "outputs": [],
   "source": [
    "print(np.sqrt(m_1))"
   ]
  },
  {
   "cell_type": "code",
   "execution_count": null,
   "id": "eec50f09",
   "metadata": {},
   "outputs": [],
   "source": []
  }
 ],
 "metadata": {
  "kernelspec": {
   "display_name": "Python 3",
   "language": "python",
   "name": "python3"
  },
  "language_info": {
   "codemirror_mode": {
    "name": "ipython",
    "version": 3
   },
   "file_extension": ".py",
   "mimetype": "text/x-python",
   "name": "python",
   "nbconvert_exporter": "python",
   "pygments_lexer": "ipython3",
   "version": "3.8.3"
  }
 },
 "nbformat": 4,
 "nbformat_minor": 5
}
